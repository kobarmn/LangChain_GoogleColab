{
  "nbformat": 4,
  "nbformat_minor": 0,
  "metadata": {
    "colab": {
      "provenance": [],
      "authorship_tag": "ABX9TyMniLg36RDG8AQnMxUfzQJs",
      "include_colab_link": true
    },
    "kernelspec": {
      "name": "python3",
      "display_name": "Python 3"
    },
    "language_info": {
      "name": "python"
    }
  },
  "cells": [
    {
      "cell_type": "markdown",
      "metadata": {
        "id": "view-in-github",
        "colab_type": "text"
      },
      "source": [
        "<a href=\"https://colab.research.google.com/github/kobarmn/LangChain_GoogleColab/blob/main/test_OpenAPI.ipynb\" target=\"_parent\"><img src=\"https://colab.research.google.com/assets/colab-badge.svg\" alt=\"Open In Colab\"/></a>"
      ]
    },
    {
      "cell_type": "code",
      "source": [
        "# LangChain > Prompts を学ぶ。\n",
        "\n",
        "\n",
        "#Prompts\n",
        "\n",
        "\n",
        "#ライブラリをインストールする。\n",
        "!pip install openai==0.28.0\n",
        "!pip install langchain-community\n",
        "\n",
        "import os\n",
        "import openai\n",
        "\n",
        "from langchain.chat_models import ChatOpenAI\n",
        "from langchain.prompts import (\n",
        "  ChatPromptTemplate,\n",
        "  PromptTemplate,\n",
        "  SystemMessagePromptTemplate,\n",
        "  HumanMessagePromptTemplate\n",
        "\n",
        ",\n",
        ")\n",
        "from langchain.schema import HumanMessage, SystemMessage\n",
        "\n",
        "#環境変数 (APIキー)\n",
        "openai.api_key = 'あなたのOpenAI.APIキーを選択してください。'\n",
        "\n",
        "\n",
        "#Chat Models\n",
        "chat = ChatOpenAI(\n",
        "    model_name=\"gpt-3.5-turbo\",\n",
        "    temperature=0\n",
        ")\n",
        "\n",
        "#プロンプト作成\n",
        "chat_prompt = ChatPromptTemplate.from_messages(\n",
        "    [SystemMessagePromptTemplate.from_template(\"あなたは{prefectures}のツアーガイドです。\"),\n",
        "     HumanMessagePromptTemplate.from_template(\"以下の都道府県のおすすめの旅行計画を考えてください。\\n\\n都道府県名:{prefectures}\")]\n",
        ")\n",
        "\n",
        "messages = chat_prompt.format_prompt(prefectures=\"東京都\").to_messages()\n",
        "\n",
        "#出力\n",
        "result = chat(messages)\n",
        "print(result.content)\n"
      ],
      "metadata": {
        "id": "0XyjnZr-mrbV"
      },
      "execution_count": null,
      "outputs": []
    },
    {
      "cell_type": "code",
      "source": [
        "from pydantic import BaseModel, Field\n",
        "from langchain.output_parsers import PydanticOutputParser\n",
        "\n",
        "import os\n",
        "import openai\n",
        "from langchain.chat_models import ChatOpenAI\n",
        "from langchain.prompts import (\n",
        "  ChatPromptTemplate,\n",
        "  PromptTemplate,\n",
        "  SystemMessagePromptTemplate,\n",
        "  HumanMessagePromptTemplate,\n",
        ")\n",
        "from langchain.schema import HumanMessage, SystemMessage\n",
        "\n",
        "#環境変数 (APIキー)\n",
        "openai.api_key = 'あなたのOpenAI.APIキーを選択してください。'\n",
        "\n",
        "# 出力形式を指定するTourGuideクラス\n",
        "class TourGuide(BaseModel):\n",
        "    touristAttraction: list[str] = Field(description=\"都道府県の観光名所\")\n",
        "    steps: list[str] = Field(description=\"旅行計画のステップ\")\n",
        "\n",
        "# PydanticOutputParserに、TourGuideクラスを引き渡す。\n",
        "parser = PydanticOutputParser(pydantic_object=TourGuide)\n",
        "format_instructions = parser.get_format_instructions()\n",
        "\n",
        "\n",
        "# PromptTemplate\n",
        "template = \"\"\"提示した都道府県における旅行計画を考えてください。\n",
        "\n",
        "{format_instructions}\n",
        "\n",
        "都道府県名:{prefectures}\n",
        "\"\"\"\n",
        "\n",
        "prompt = PromptTemplate(\n",
        "    template=template,\n",
        "    input_variables=[\"prefectures\"],\n",
        "    partial_variables={\"format_instructions\": format_instructions}\n",
        ")\n",
        "\n",
        "# OpenAPI.LLMを呼び出す。\n",
        "chat = ChatOpenAI(\n",
        "    model_name=\"gpt-3.5-turbo\",\n",
        "    temperature=0,\n",
        ")\n",
        "\n",
        "formatted_prompt = prompt.format(prefectures=\"兵庫県\")\n",
        "messages=[HumanMessage(content=formatted_prompt)]\n",
        "output = chat(messages)\n",
        "print(output.content)"
      ],
      "metadata": {
        "id": "8Phd80IF4jf_"
      },
      "execution_count": null,
      "outputs": []
    },
    {
      "cell_type": "code",
      "source": [
        "#DocumentLoaderを学ぶ\n",
        "\n",
        "!pip install GitPython==3.1.36\n",
        "from langchain.document_loaders import GitLoader\n",
        "from langchain.text_splitter import CharacterTextSplitter\n",
        "\n",
        "def file_filter(file_path):\n",
        "  return file_path.endswith(\".mdx\")\n",
        "\n",
        "loader = GitLoader(\n",
        "    clone_url=\"https://github.com/langchain-ai/langchain\",\n",
        "    repo_path=\"./langchain\",\n",
        "    branch=\"master\",\n",
        "    file_filter=file_filter,\n",
        ")\n",
        "\n",
        "raw_docs = loader.load()\n",
        "print(raw_docs\n",
        ")\n",
        "\n",
        "\n",
        "text_splitter = CharacterTextSplitter(chunk_size=1000, chunk_overlap=0)\n",
        "\n",
        "docs = text_splitter.split_documents(raw_docs)\n",
        "print(docs)"
      ],
      "metadata": {
        "id": "ygayT50voHad"
      },
      "execution_count": null,
      "outputs": []
    },
    {
      "cell_type": "code",
      "source": [],
      "metadata": {
        "id": "czekqIFAozQJ"
      },
      "execution_count": null,
      "outputs": []
    }
  ]
}