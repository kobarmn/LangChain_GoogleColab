{
  "nbformat": 4,
  "nbformat_minor": 0,
  "metadata": {
    "colab": {
      "provenance": [],
      "authorship_tag": "ABX9TyMSXgzoxoq1wrW5DFDhTvmY",
      "include_colab_link": true
    },
    "kernelspec": {
      "name": "python3",
      "display_name": "Python 3"
    },
    "language_info": {
      "name": "python"
    }
  },
  "cells": [
    {
      "cell_type": "markdown",
      "metadata": {
        "id": "view-in-github",
        "colab_type": "text"
      },
      "source": [
        "<a href=\"https://colab.research.google.com/github/kobarmn/LangChain_GoogleColab/blob/main/test_OpenAPI.ipynb\" target=\"_parent\"><img src=\"https://colab.research.google.com/assets/colab-badge.svg\" alt=\"Open In Colab\"/></a>"
      ]
    },
    {
      "cell_type": "code",
      "source": [
        "pip install -q -U google-genai"
      ],
      "metadata": {
        "id": "swybs5xFXJ3t"
      },
      "execution_count": 1,
      "outputs": []
    },
    {
      "cell_type": "code",
      "source": [
        "pip install --upgrade openai"
      ],
      "metadata": {
        "id": "qs4A-abkdG49",
        "outputId": "cdb59eeb-e61f-4f69-9bd9-e6fe05da14cc",
        "colab": {
          "base_uri": "https://localhost:8080/",
          "height": 598
        }
      },
      "execution_count": 7,
      "outputs": [
        {
          "output_type": "stream",
          "name": "stdout",
          "text": [
            "Requirement already satisfied: openai in /usr/local/lib/python3.11/dist-packages (0.28.0)\n",
            "Collecting openai\n",
            "  Downloading openai-1.93.0-py3-none-any.whl.metadata (29 kB)\n",
            "Requirement already satisfied: anyio<5,>=3.5.0 in /usr/local/lib/python3.11/dist-packages (from openai) (4.9.0)\n",
            "Requirement already satisfied: distro<2,>=1.7.0 in /usr/local/lib/python3.11/dist-packages (from openai) (1.9.0)\n",
            "Requirement already satisfied: httpx<1,>=0.23.0 in /usr/local/lib/python3.11/dist-packages (from openai) (0.28.1)\n",
            "Requirement already satisfied: jiter<1,>=0.4.0 in /usr/local/lib/python3.11/dist-packages (from openai) (0.10.0)\n",
            "Requirement already satisfied: pydantic<3,>=1.9.0 in /usr/local/lib/python3.11/dist-packages (from openai) (2.11.7)\n",
            "Requirement already satisfied: sniffio in /usr/local/lib/python3.11/dist-packages (from openai) (1.3.1)\n",
            "Requirement already satisfied: tqdm>4 in /usr/local/lib/python3.11/dist-packages (from openai) (4.67.1)\n",
            "Requirement already satisfied: typing-extensions<5,>=4.11 in /usr/local/lib/python3.11/dist-packages (from openai) (4.14.0)\n",
            "Requirement already satisfied: idna>=2.8 in /usr/local/lib/python3.11/dist-packages (from anyio<5,>=3.5.0->openai) (3.10)\n",
            "Requirement already satisfied: certifi in /usr/local/lib/python3.11/dist-packages (from httpx<1,>=0.23.0->openai) (2025.6.15)\n",
            "Requirement already satisfied: httpcore==1.* in /usr/local/lib/python3.11/dist-packages (from httpx<1,>=0.23.0->openai) (1.0.9)\n",
            "Requirement already satisfied: h11>=0.16 in /usr/local/lib/python3.11/dist-packages (from httpcore==1.*->httpx<1,>=0.23.0->openai) (0.16.0)\n",
            "Requirement already satisfied: annotated-types>=0.6.0 in /usr/local/lib/python3.11/dist-packages (from pydantic<3,>=1.9.0->openai) (0.7.0)\n",
            "Requirement already satisfied: pydantic-core==2.33.2 in /usr/local/lib/python3.11/dist-packages (from pydantic<3,>=1.9.0->openai) (2.33.2)\n",
            "Requirement already satisfied: typing-inspection>=0.4.0 in /usr/local/lib/python3.11/dist-packages (from pydantic<3,>=1.9.0->openai) (0.4.1)\n",
            "Downloading openai-1.93.0-py3-none-any.whl (755 kB)\n",
            "\u001b[2K   \u001b[90m━━━━━━━━━━━━━━━━━━━━━━━━━━━━━━━━━━━━━━━━\u001b[0m \u001b[32m755.0/755.0 kB\u001b[0m \u001b[31m10.3 MB/s\u001b[0m eta \u001b[36m0:00:00\u001b[0m\n",
            "\u001b[?25hInstalling collected packages: openai\n",
            "  Attempting uninstall: openai\n",
            "    Found existing installation: openai 0.28.0\n",
            "    Uninstalling openai-0.28.0:\n",
            "      Successfully uninstalled openai-0.28.0\n",
            "Successfully installed openai-1.93.0\n"
          ]
        },
        {
          "output_type": "display_data",
          "data": {
            "application/vnd.colab-display-data+json": {
              "pip_warning": {
                "packages": [
                  "openai"
                ]
              },
              "id": "5cffa0ecbb4240c8a42b048452cd74ea"
            }
          },
          "metadata": {}
        }
      ]
    },
    {
      "cell_type": "code",
      "source": [
        "from openai import OpenAI\n",
        "\n",
        "# 環境変数 (GEMINI_API_KEY) を設定すると、GeminiAPIライブラリを利用する際に、クライアントにより自動取得される。\n",
        "# client = genai.Client()\n",
        "\n",
        "client = OpenAI(\n",
        "    api_key=\"GenerateAPI\",\n",
        "    base_url=\"https://generativelanguage.googleapis.com/v1beta/openai/\"\n",
        ")\n",
        "\n",
        "response = client.chat.completions.create(\n",
        "    model=\"gemini-2.5-flash\",\n",
        "    messages=[\n",
        "        {\"role\": \"system\", \"content\": \"You are a helpful assistant.\"},\n",
        "        {\n",
        "            \"role\": \"user\",\n",
        "            \"content\" : \"GeminiAPIについて教えてください。\"\n",
        "        }\n",
        "    ]\n",
        ")\n",
        "\n",
        "print(response.choices[0].message)"
      ],
      "metadata": {
        "id": "adWg9u1XXWH0",
        "outputId": "43126f6c-82bd-4c33-c9bc-ce1baae7a7ec",
        "colab": {
          "base_uri": "https://localhost:8080/"
        }
      },
      "execution_count": 1,
      "outputs": [
        {
          "output_type": "stream",
          "name": "stdout",
          "text": [
            "ChatCompletionMessage(content='Gemini APIは、Googleが開発した最先端のAIモデルである**Gemini**を、開発者が自身のアプリケーションやサービスに組み込むための**API (Application Programming Interface)**です。\\n\\nこれにより、Googleが提供する強力な生成AI能力を、自社の製品やワークフローに簡単に統合できるようになります。\\n\\n### Geminiモデルの概要\\nGeminiは、Googleが「世界で最も高性能なAIモデルの一つ」と位置づけているモデルファミリーです。その最大の特徴は、**マルチモーダル（Multimodal）**であることです。これは、テキストだけでなく、画像、音声、動画といった複数の種類の情報を同時に理解し、推論し、生成できる能力を指します。\\n\\nGeminiモデルには、用途や規模に応じていくつかのバージョンがあります。\\n*   **Gemini Nano:** デバイス上で動作する軽量モデル。\\n*   **Gemini Pro:** 幅広いタスクに対応するバランスの取れたモデル。多くのAPI利用で提供されるのがこれです。\\n*   **Gemini Ultra:** 最も高性能で複雑なタスクに対応するモデル（現在、特定の用途や早期アクセスユーザー向けに提供）。\\n\\n### Gemini APIでできること\\n\\nGemini APIを利用することで、以下のような多様なAI機能をアプリケーションに組み込むことができます。\\n\\n1.  **テキスト生成 (Text Generation):**\\n    *   質問応答、要約、翻訳、文章校正。\\n    *   記事、ブログ投稿、広告コピー、スクリプトなどのコンテンツ作成。\\n    *   チャットボットやバーチャルアシスタントの構築。\\n\\n2.  **マルチモーダル入力の処理 (Multimodal Input Processing):**\\n    *   **テキストと画像を組み合わせた推論:** 画像を見せながら、その画像の内容について質問したり、説明を生成させたりすることができます。（例：「この画像は何が写っていますか？」「この画像に写っている動物について説明してください。」）\\n    *   画像内のオブジェクトの特定や、画像のキャプション生成。\\n\\n3.  **関数呼び出し (Function Calling):**\\n    *   AIモデルが、外部のツールやAPIを呼び出すための引数を生成する能力です。これにより、AIがリアルタイムの情報（例：天気予報、株価）を取得したり、データベースを操作したり、ユーザーに代わってアクションを実行したりすることが可能になります。\\n    *   例：「明日の東京の天気を教えて」というユーザーの質問に対し、Geminiが天気予報APIを呼び出すための情報を生成し、その結果をユーザーに返す。\\n\\n4.  **埋め込み (Embeddings) の生成:**\\n    *   テキストや画像を数値のベクトル（埋め込み）に変換する機能です。これにより、類似するコンテンツを検索したり、レコメンデーションシステムを構築したり、RAG（Retrieval Augmented Generation）システムで関連情報を取得する際に利用できます。\\n\\n5.  **チャットインターフェース (Chat Interface):**\\n    *   一連の会話のコンテキストを維持しながら、ユーザーとの自然な対話を実現するための機能です。\\n\\n6.  **安全性と責任あるAI (Safety and Responsible AI):**\\n    *   不適切なコンテンツ（ヘイトスピーチ、暴力、性的表現など）の生成を防ぐための組み込みの安全フィルターが提供されています。\\n\\n### Gemini APIの利用方法\\n\\n主に以下の2つの方法でGemini APIを利用できます。\\n\\n1.  **Google AI Studio (旧MakerSuite):**\\n    *   手軽にGeminiモデルを試したり、プロトタイプを作成したりするためのWebベースのツールです。\\n    *   コードを書かずにプロンプトをテストしたり、APIキーを取得してすぐに開発を始められます。\\n    *   無料枠も提供されており、個人開発者や学習者にとって最初の入り口となります。\\n\\n2.  **Google Cloud Vertex AI:**\\n    *   エンタープライズレベルでのAI開発とデプロイのための包括的なプラットフォームです。\\n    *   高いスケーラビリティ、セキュリティ、信頼性が求められる本番環境での利用に適しています。\\n    *   モデルのチューニング、MLOps機能（モデルのライフサイクル管理）、データガバナンスなど、より高度な機能が利用できます。\\n\\nどちらの方法でも、Python, Node.js, Go, Javaなどの主要なプログラミング言語向けのクライアントライブラリ（SDK）や、直接REST APIを呼び出すことでGeminiモデルにアクセスできます。\\n\\n### Gemini APIの主な利用シナリオ\\n\\n*   **チャットボット・バーチャルアシスタント:** ユーザーからの質問に自然な言葉で応答し、情報提供やタスク実行を支援。\\n*   **コンテンツ生成ツール:** マーケティング資料、ブログ記事、SNS投稿などの文章を自動生成。\\n*   **画像分析・説明生成:** 大量の画像を自動で分類したり、内容を説明するキャプションを生成したりするシステム。\\n*   **開発者向けツール:** コードの生成、デバッグ支援、コードの解説。\\n*   **教育・学習支援:** 質問応答、要約、多言語学習支援。\\n*   **カスタマーサポートの自動化:** 顧客からの問い合わせに即座に対応し、解決策を提示。\\n\\nGemini APIは、開発者が最新の生成AI技術を自社のサービスや製品に組み込み、新たな価値を創造するための強力なツールとなります。', refusal=None, role='assistant', annotations=None, audio=None, function_call=None, tool_calls=None)\n"
          ]
        }
      ]
    },
    {
      "cell_type": "code",
      "source": [],
      "metadata": {
        "id": "ze720n57XsCY"
      },
      "execution_count": null,
      "outputs": []
    }
  ]
}