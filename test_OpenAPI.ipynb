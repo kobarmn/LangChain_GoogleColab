{
  "nbformat": 4,
  "nbformat_minor": 0,
  "metadata": {
    "colab": {
      "provenance": [],
      "authorship_tag": "ABX9TyPb6pKJYuoqYLduCgAt+PF6",
      "include_colab_link": true
    },
    "kernelspec": {
      "name": "python3",
      "display_name": "Python 3"
    },
    "language_info": {
      "name": "python"
    }
  },
  "cells": [
    {
      "cell_type": "markdown",
      "metadata": {
        "id": "view-in-github",
        "colab_type": "text"
      },
      "source": [
        "<a href=\"https://colab.research.google.com/github/kobarmn/LangChain_GoogleColab/blob/main/test_OpenAPI.ipynb\" target=\"_parent\"><img src=\"https://colab.research.google.com/assets/colab-badge.svg\" alt=\"Open In Colab\"/></a>"
      ]
    },
    {
      "cell_type": "code",
      "source": [
        "#Prompts\n",
        "\n",
        "\n",
        "#ライブラリをインストールする。\n",
        "!pip install openai==0.28.0\n",
        "!pip install langchain-community\n",
        "\n",
        "import os\n",
        "import openai\n",
        "\n",
        "from langchain.chat_models import ChatOpenAI\n",
        "from langchain.prompts import (\n",
        "  ChatPromptTemplate,\n",
        "  PromptTemplate,\n",
        "  SystemMessagePromptTemplate,\n",
        "  HumanMessagePromptTemplate,\n",
        ")\n",
        "from langchain.schema import HumanMessage, SystemMessage\n",
        "\n",
        "#環境変数 (APIキー)\n",
        "openai.api_key = 'あなたのOpenAI_APIキーを指定'\n",
        "\n",
        "\n",
        "#Chat Models\n",
        "chat = ChatOpenAI(\n",
        "    model_name=\"gpt-3.5-turbo\",\n",
        "    temperature=0\n",
        ")\n",
        "\n",
        "#プロンプト作成\n",
        "chat_prompt = ChatPromptTemplate.from_messages(\n",
        "    [SystemMessagePromptTemplate.from_template(\"あなたは{prefectures}のツアーガイドです。\"),\n",
        "     HumanMessagePromptTemplate.from_template(\"以下の都道府県のおすすめの旅行計画を考えてください。\\n\\n都道府県名:{prefectures}\")]\n",
        ")\n",
        "\n",
        "messages = chat_prompt.format_prompt(prefectures=\"東京都\").to_messages()\n",
        "\n",
        "#出力\n",
        "result = chat(messages)\n",
        "print(result.content)\n",
        "\n",
        "\n"
      ],
      "metadata": {
        "id": "0XyjnZr-mrbV"
      },
      "execution_count": null,
      "outputs": []
    }
  ]
}