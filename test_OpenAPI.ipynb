{
  "nbformat": 4,
  "nbformat_minor": 0,
  "metadata": {
    "colab": {
      "provenance": [],
      "authorship_tag": "ABX9TyPD+kZPoOca2WiwbgNZTh6U",
      "include_colab_link": true
    },
    "kernelspec": {
      "name": "python3",
      "display_name": "Python 3"
    },
    "language_info": {
      "name": "python"
    }
  },
  "cells": [
    {
      "cell_type": "markdown",
      "metadata": {
        "id": "view-in-github",
        "colab_type": "text"
      },
      "source": [
        "<a href=\"https://colab.research.google.com/github/kobarmn/LangChain_GoogleColab/blob/main/test_OpenAPI.ipynb\" target=\"_parent\"><img src=\"https://colab.research.google.com/assets/colab-badge.svg\" alt=\"Open In Colab\"/></a>"
      ]
    },
    {
      "cell_type": "code",
      "source": [
        "#pip install -q -U google-genai"
      ],
      "metadata": {
        "id": "swybs5xFXJ3t"
      },
      "execution_count": null,
      "outputs": []
    },
    {
      "cell_type": "code",
      "source": [
        "pip install --upgrade openai"
      ],
      "metadata": {
        "id": "qs4A-abkdG49"
      },
      "execution_count": null,
      "outputs": []
    },
    {
      "cell_type": "code",
      "source": [
        "import json\n",
        "from openai import OpenAI\n",
        "\n",
        "def get_current_weather(location, unit=\"celsius\"):\n",
        "  weather_info = {\n",
        "      \"location\": location,\n",
        "      \"temperature\":\"25\",\n",
        "      \"unit\":\"celsius\",\n",
        "      \"forecast\":[\"sunny\", \"windy\"],\n",
        "  }\n",
        "  return json.dumps(weather_info)\n",
        "\n",
        "functions = [\n",
        "    {\n",
        "        \"name\": \"get_current_weather\",\n",
        "        \"description\": \"Get the current weather in a given location\",\n",
        "        \"parameters\": {\n",
        "            \"type\": \"object\",\n",
        "            \"properties\": {\n",
        "                \"location\": {\n",
        "                    \"type\": \"string\",\n",
        "                    \"description\": \"The city and state, e.g. Tokyo\",\n",
        "                },  # location <end>\n",
        "                \"unit\": {\n",
        "                    \"type\": \"string\",\n",
        "                    \"enum\": [\"celsius\", \"fahrenheit\"],\n",
        "                },  # unit <end>\n",
        "            },  # properties <end>\n",
        "            \"required\": [\"location\"],\n",
        "        },  # parameter <end>\n",
        "    },\n",
        "]\n",
        "\n",
        "# 環境変数 (GEMINI_API_KEY) を設定すると、GeminiAPIライブラリを利用する際に、クライアントにより自動取得される。\n",
        "# client = genai.Client()\n",
        "\n",
        "client = OpenAI(\n",
        "    api_key=\"APIKEY\",\n",
        "    base_url=\"https://generativelanguage.googleapis.com/v1beta/openai/\"\n",
        ")\n",
        "\n",
        "messages = [\n",
        "    {\"role\":\"user\", \"content\":\"What's the weather like in Tokyo\"}\n",
        "]\n",
        "\n",
        "response = client.chat.completions.create(\n",
        "    model=\"gemini-2.5-flash\",\n",
        "    messages=messages,\n",
        "    tools=functions\n",
        ")\n",
        "\n",
        "print(response)"
      ],
      "metadata": {
        "id": "IuIgAwn2-RT2"
      },
      "execution_count": null,
      "outputs": []
    }
  ]
}